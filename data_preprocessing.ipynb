{
 "cells": [
  {
   "cell_type": "markdown",
   "metadata": {},
   "source": [
    "### Imports"
   ]
  },
  {
   "cell_type": "code",
   "execution_count": 1,
   "metadata": {},
   "outputs": [],
   "source": [
    "import os\n",
    "import json\n",
    "import regex as re\n",
    "import pandas as pd"
   ]
  },
  {
   "cell_type": "code",
   "execution_count": 2,
   "metadata": {},
   "outputs": [],
   "source": [
    "train_filename = \"train.jsonl\"\n",
    "valid_filename = \"valid.jsonl\"\n",
    "test_filename = \"test.jsonl\"\n",
    "\n",
    "file_path = \"./dataset/Cleaned_CodeSearchNet/CodeSearchNet-Python/\" # Change this to your own path"
   ]
  },
  {
   "cell_type": "markdown",
   "metadata": {},
   "source": [
    "### Loading Data"
   ]
  },
  {
   "cell_type": "code",
   "execution_count": 26,
   "metadata": {},
   "outputs": [],
   "source": [
    "def load_data(file_path, file_name):\n",
    "    compiled = []\n",
    "    # Regular expression pattern to remove docstrings from Python functions: matches both \"\"\"[docstring]\"\"\" and '''[docstring]'''\n",
    "    docstring_pattern  = r'\"\"\"[\\s\\S]*?\"\"\"|\\'\\'\\'[\\s\\S]*?\\'\\'\\''\n",
    "    with open(f\"{file_path}{file_name}\", 'r') as file:\n",
    "        for line in file:\n",
    "            # Load JSON data to convert the string into a dictionary\n",
    "            data = json.loads(line)\n",
    "            if len(data['code_tokens']) < 256 and len(data['docstring_tokens']) < 256:\n",
    "                # Use the re.sub function to replace the matched pattern with an empty string\n",
    "                cleaned_code_text = re.sub(docstring_pattern, '', data['code'].strip())        \n",
    "                compiled.append({'code': cleaned_code_text, 'docstring': data['docstring'].strip()})\n",
    "\n",
    "    code_corpus = [data['code'] for data in compiled]\n",
    "    docstrings_corpus = [data['docstring'] for data in compiled]\n",
    "    \n",
    "    return code_corpus, docstrings_corpus\n"
   ]
  },
  {
   "cell_type": "code",
   "execution_count": 27,
   "metadata": {},
   "outputs": [],
   "source": [
    "train_code_corpus, train_docstrings_corpus = load_data(file_path, train_filename)\n",
    "valid_code_corpus, valid_docstrings_corpus = load_data(file_path, valid_filename)\n",
    "test_code_corpus, test_docstrings_corpus = load_data(file_path, test_filename)"
   ]
  },
  {
   "cell_type": "markdown",
   "metadata": {},
   "source": [
    "### Creating Prompt, which is the training data for the model"
   ]
  },
  {
   "cell_type": "code",
   "execution_count": 13,
   "metadata": {},
   "outputs": [],
   "source": [
    "def create_text_dataframe(code_string, docstring):\n",
    "    df =  pd.DataFrame([code_string, docstring], index=['code', 'docstring']).T\n",
    "    prompt = \"Below is the code of a Python function. Please write a short comment describing what the function does. \\n\\n\"\n",
    "    df['text'] = prompt + \"### Instruction:\\n\" + df['code'] + \"\\n### Response:\\n\" + df['docstring']\n",
    "\n",
    "    return df"
   ]
  },
  {
   "cell_type": "code",
   "execution_count": 24,
   "metadata": {},
   "outputs": [],
   "source": [
    "train = create_text_dataframe(train_code_corpus, train_docstrings_corpus)\n",
    "test = create_text_dataframe(test_code_corpus, test_docstrings_corpus)\n",
    "valid = create_text_dataframe(valid_code_corpus, valid_docstrings_corpus)"
   ]
  },
  {
   "cell_type": "markdown",
   "metadata": {},
   "source": [
    "### Saving the datasets to CSV"
   ]
  },
  {
   "cell_type": "code",
   "execution_count": null,
   "metadata": {},
   "outputs": [],
   "source": [
    "train.to_csv('finetune_llama-v2/prompt_data/train.csv', index=False)\n",
    "test.to_csv('finetune_llama-v2/prompt_data/test.csv', index=False)\n",
    "valid.to_csv('finetune_llama-v2/prompt_data/valid.csv', index=False)"
   ]
  }
 ],
 "metadata": {
  "kernelspec": {
   "display_name": "torch-gpu",
   "language": "python",
   "name": "python3"
  },
  "language_info": {
   "codemirror_mode": {
    "name": "ipython",
    "version": 3
   },
   "file_extension": ".py",
   "mimetype": "text/x-python",
   "name": "python",
   "nbconvert_exporter": "python",
   "pygments_lexer": "ipython3",
   "version": "3.9.13"
  },
  "orig_nbformat": 4
 },
 "nbformat": 4,
 "nbformat_minor": 2
}
